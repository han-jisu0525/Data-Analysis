{
  "nbformat": 4,
  "nbformat_minor": 0,
  "metadata": {
    "colab": {
      "provenance": [],
      "authorship_tag": "ABX9TyNKY2GU+5VKDxt8OThvz3DP",
      "include_colab_link": true
    },
    "kernelspec": {
      "name": "python3",
      "display_name": "Python 3"
    },
    "language_info": {
      "name": "python"
    }
  },
  "cells": [
    {
      "cell_type": "markdown",
      "metadata": {
        "id": "view-in-github",
        "colab_type": "text"
      },
      "source": [
        "<a href=\"https://colab.research.google.com/github/han-jisu0525/Data-Analysis/blob/main/LSTM.ipynb\" target=\"_parent\"><img src=\"https://colab.research.google.com/assets/colab-badge.svg\" alt=\"Open In Colab\"/></a>"
      ]
    },
    {
      "cell_type": "code",
      "source": [
        "from google.colab import drive\n",
        "drive.mount('/content/drive')"
      ],
      "metadata": {
        "colab": {
          "base_uri": "https://localhost:8080/"
        },
        "id": "aYoLXPZ3Ec1V",
        "outputId": "b004136c-4b97-413d-c163-575037ef3150"
      },
      "execution_count": 1,
      "outputs": [
        {
          "output_type": "stream",
          "name": "stdout",
          "text": [
            "Mounted at /content/drive\n"
          ]
        }
      ]
    },
    {
      "cell_type": "code",
      "source": [
        "import pandas as pd\n",
        "df = pd.read_csv(\"/content/drive/MyDrive/Colab Notebooks/lstm/TSLA.csv\")\n",
        "print(\"Numbers of rows and columns\", df.shape)"
      ],
      "metadata": {
        "colab": {
          "base_uri": "https://localhost:8080/"
        },
        "id": "Tyuc4DisFBql",
        "outputId": "3ea944ba-9882-4b8d-dc64-8b8b8169ecb4"
      },
      "execution_count": 2,
      "outputs": [
        {
          "output_type": "stream",
          "name": "stdout",
          "text": [
            "Numbers of rows and columns (1258, 7)\n"
          ]
        }
      ]
    },
    {
      "cell_type": "code",
      "source": [
        "df.head(5)"
      ],
      "metadata": {
        "colab": {
          "base_uri": "https://localhost:8080/",
          "height": 206
        },
        "id": "gOVewY06FrB_",
        "outputId": "5576fdca-8d12-4373-8d8b-2b1eaccf6fff"
      },
      "execution_count": 3,
      "outputs": [
        {
          "output_type": "execute_result",
          "data": {
            "text/plain": [
              "         Date       Open       High        Low      Close  Adj Close  \\\n",
              "0  2018-12-31  22.519333  22.614000  21.684000  22.186666  22.186666   \n",
              "1  2019-01-02  20.406668  21.008667  19.920000  20.674667  20.674667   \n",
              "2  2019-01-03  20.466667  20.626667  19.825333  20.024000  20.024000   \n",
              "3  2019-01-04  20.400000  21.200001  20.181999  21.179333  21.179333   \n",
              "4  2019-01-07  21.448000  22.449333  21.183332  22.330667  22.330667   \n",
              "\n",
              "      Volume  \n",
              "0   94534500  \n",
              "1  174879000  \n",
              "2  104478000  \n",
              "3  110911500  \n",
              "4  113268000  "
            ],
            "text/html": [
              "\n",
              "  <div id=\"df-6f34e145-755f-4ae0-bdc8-bc1d25ab9964\" class=\"colab-df-container\">\n",
              "    <div>\n",
              "<style scoped>\n",
              "    .dataframe tbody tr th:only-of-type {\n",
              "        vertical-align: middle;\n",
              "    }\n",
              "\n",
              "    .dataframe tbody tr th {\n",
              "        vertical-align: top;\n",
              "    }\n",
              "\n",
              "    .dataframe thead th {\n",
              "        text-align: right;\n",
              "    }\n",
              "</style>\n",
              "<table border=\"1\" class=\"dataframe\">\n",
              "  <thead>\n",
              "    <tr style=\"text-align: right;\">\n",
              "      <th></th>\n",
              "      <th>Date</th>\n",
              "      <th>Open</th>\n",
              "      <th>High</th>\n",
              "      <th>Low</th>\n",
              "      <th>Close</th>\n",
              "      <th>Adj Close</th>\n",
              "      <th>Volume</th>\n",
              "    </tr>\n",
              "  </thead>\n",
              "  <tbody>\n",
              "    <tr>\n",
              "      <th>0</th>\n",
              "      <td>2018-12-31</td>\n",
              "      <td>22.519333</td>\n",
              "      <td>22.614000</td>\n",
              "      <td>21.684000</td>\n",
              "      <td>22.186666</td>\n",
              "      <td>22.186666</td>\n",
              "      <td>94534500</td>\n",
              "    </tr>\n",
              "    <tr>\n",
              "      <th>1</th>\n",
              "      <td>2019-01-02</td>\n",
              "      <td>20.406668</td>\n",
              "      <td>21.008667</td>\n",
              "      <td>19.920000</td>\n",
              "      <td>20.674667</td>\n",
              "      <td>20.674667</td>\n",
              "      <td>174879000</td>\n",
              "    </tr>\n",
              "    <tr>\n",
              "      <th>2</th>\n",
              "      <td>2019-01-03</td>\n",
              "      <td>20.466667</td>\n",
              "      <td>20.626667</td>\n",
              "      <td>19.825333</td>\n",
              "      <td>20.024000</td>\n",
              "      <td>20.024000</td>\n",
              "      <td>104478000</td>\n",
              "    </tr>\n",
              "    <tr>\n",
              "      <th>3</th>\n",
              "      <td>2019-01-04</td>\n",
              "      <td>20.400000</td>\n",
              "      <td>21.200001</td>\n",
              "      <td>20.181999</td>\n",
              "      <td>21.179333</td>\n",
              "      <td>21.179333</td>\n",
              "      <td>110911500</td>\n",
              "    </tr>\n",
              "    <tr>\n",
              "      <th>4</th>\n",
              "      <td>2019-01-07</td>\n",
              "      <td>21.448000</td>\n",
              "      <td>22.449333</td>\n",
              "      <td>21.183332</td>\n",
              "      <td>22.330667</td>\n",
              "      <td>22.330667</td>\n",
              "      <td>113268000</td>\n",
              "    </tr>\n",
              "  </tbody>\n",
              "</table>\n",
              "</div>\n",
              "    <div class=\"colab-df-buttons\">\n",
              "\n",
              "  <div class=\"colab-df-container\">\n",
              "    <button class=\"colab-df-convert\" onclick=\"convertToInteractive('df-6f34e145-755f-4ae0-bdc8-bc1d25ab9964')\"\n",
              "            title=\"Convert this dataframe to an interactive table.\"\n",
              "            style=\"display:none;\">\n",
              "\n",
              "  <svg xmlns=\"http://www.w3.org/2000/svg\" height=\"24px\" viewBox=\"0 -960 960 960\">\n",
              "    <path d=\"M120-120v-720h720v720H120Zm60-500h600v-160H180v160Zm220 220h160v-160H400v160Zm0 220h160v-160H400v160ZM180-400h160v-160H180v160Zm440 0h160v-160H620v160ZM180-180h160v-160H180v160Zm440 0h160v-160H620v160Z\"/>\n",
              "  </svg>\n",
              "    </button>\n",
              "\n",
              "  <style>\n",
              "    .colab-df-container {\n",
              "      display:flex;\n",
              "      gap: 12px;\n",
              "    }\n",
              "\n",
              "    .colab-df-convert {\n",
              "      background-color: #E8F0FE;\n",
              "      border: none;\n",
              "      border-radius: 50%;\n",
              "      cursor: pointer;\n",
              "      display: none;\n",
              "      fill: #1967D2;\n",
              "      height: 32px;\n",
              "      padding: 0 0 0 0;\n",
              "      width: 32px;\n",
              "    }\n",
              "\n",
              "    .colab-df-convert:hover {\n",
              "      background-color: #E2EBFA;\n",
              "      box-shadow: 0px 1px 2px rgba(60, 64, 67, 0.3), 0px 1px 3px 1px rgba(60, 64, 67, 0.15);\n",
              "      fill: #174EA6;\n",
              "    }\n",
              "\n",
              "    .colab-df-buttons div {\n",
              "      margin-bottom: 4px;\n",
              "    }\n",
              "\n",
              "    [theme=dark] .colab-df-convert {\n",
              "      background-color: #3B4455;\n",
              "      fill: #D2E3FC;\n",
              "    }\n",
              "\n",
              "    [theme=dark] .colab-df-convert:hover {\n",
              "      background-color: #434B5C;\n",
              "      box-shadow: 0px 1px 3px 1px rgba(0, 0, 0, 0.15);\n",
              "      filter: drop-shadow(0px 1px 2px rgba(0, 0, 0, 0.3));\n",
              "      fill: #FFFFFF;\n",
              "    }\n",
              "  </style>\n",
              "\n",
              "    <script>\n",
              "      const buttonEl =\n",
              "        document.querySelector('#df-6f34e145-755f-4ae0-bdc8-bc1d25ab9964 button.colab-df-convert');\n",
              "      buttonEl.style.display =\n",
              "        google.colab.kernel.accessAllowed ? 'block' : 'none';\n",
              "\n",
              "      async function convertToInteractive(key) {\n",
              "        const element = document.querySelector('#df-6f34e145-755f-4ae0-bdc8-bc1d25ab9964');\n",
              "        const dataTable =\n",
              "          await google.colab.kernel.invokeFunction('convertToInteractive',\n",
              "                                                    [key], {});\n",
              "        if (!dataTable) return;\n",
              "\n",
              "        const docLinkHtml = 'Like what you see? Visit the ' +\n",
              "          '<a target=\"_blank\" href=https://colab.research.google.com/notebooks/data_table.ipynb>data table notebook</a>'\n",
              "          + ' to learn more about interactive tables.';\n",
              "        element.innerHTML = '';\n",
              "        dataTable['output_type'] = 'display_data';\n",
              "        await google.colab.output.renderOutput(dataTable, element);\n",
              "        const docLink = document.createElement('div');\n",
              "        docLink.innerHTML = docLinkHtml;\n",
              "        element.appendChild(docLink);\n",
              "      }\n",
              "    </script>\n",
              "  </div>\n",
              "\n",
              "\n",
              "<div id=\"df-66b90059-512a-453b-8610-fe583baa2d0a\">\n",
              "  <button class=\"colab-df-quickchart\" onclick=\"quickchart('df-66b90059-512a-453b-8610-fe583baa2d0a')\"\n",
              "            title=\"Suggest charts\"\n",
              "            style=\"display:none;\">\n",
              "\n",
              "<svg xmlns=\"http://www.w3.org/2000/svg\" height=\"24px\"viewBox=\"0 0 24 24\"\n",
              "     width=\"24px\">\n",
              "    <g>\n",
              "        <path d=\"M19 3H5c-1.1 0-2 .9-2 2v14c0 1.1.9 2 2 2h14c1.1 0 2-.9 2-2V5c0-1.1-.9-2-2-2zM9 17H7v-7h2v7zm4 0h-2V7h2v10zm4 0h-2v-4h2v4z\"/>\n",
              "    </g>\n",
              "</svg>\n",
              "  </button>\n",
              "\n",
              "<style>\n",
              "  .colab-df-quickchart {\n",
              "      --bg-color: #E8F0FE;\n",
              "      --fill-color: #1967D2;\n",
              "      --hover-bg-color: #E2EBFA;\n",
              "      --hover-fill-color: #174EA6;\n",
              "      --disabled-fill-color: #AAA;\n",
              "      --disabled-bg-color: #DDD;\n",
              "  }\n",
              "\n",
              "  [theme=dark] .colab-df-quickchart {\n",
              "      --bg-color: #3B4455;\n",
              "      --fill-color: #D2E3FC;\n",
              "      --hover-bg-color: #434B5C;\n",
              "      --hover-fill-color: #FFFFFF;\n",
              "      --disabled-bg-color: #3B4455;\n",
              "      --disabled-fill-color: #666;\n",
              "  }\n",
              "\n",
              "  .colab-df-quickchart {\n",
              "    background-color: var(--bg-color);\n",
              "    border: none;\n",
              "    border-radius: 50%;\n",
              "    cursor: pointer;\n",
              "    display: none;\n",
              "    fill: var(--fill-color);\n",
              "    height: 32px;\n",
              "    padding: 0;\n",
              "    width: 32px;\n",
              "  }\n",
              "\n",
              "  .colab-df-quickchart:hover {\n",
              "    background-color: var(--hover-bg-color);\n",
              "    box-shadow: 0 1px 2px rgba(60, 64, 67, 0.3), 0 1px 3px 1px rgba(60, 64, 67, 0.15);\n",
              "    fill: var(--button-hover-fill-color);\n",
              "  }\n",
              "\n",
              "  .colab-df-quickchart-complete:disabled,\n",
              "  .colab-df-quickchart-complete:disabled:hover {\n",
              "    background-color: var(--disabled-bg-color);\n",
              "    fill: var(--disabled-fill-color);\n",
              "    box-shadow: none;\n",
              "  }\n",
              "\n",
              "  .colab-df-spinner {\n",
              "    border: 2px solid var(--fill-color);\n",
              "    border-color: transparent;\n",
              "    border-bottom-color: var(--fill-color);\n",
              "    animation:\n",
              "      spin 1s steps(1) infinite;\n",
              "  }\n",
              "\n",
              "  @keyframes spin {\n",
              "    0% {\n",
              "      border-color: transparent;\n",
              "      border-bottom-color: var(--fill-color);\n",
              "      border-left-color: var(--fill-color);\n",
              "    }\n",
              "    20% {\n",
              "      border-color: transparent;\n",
              "      border-left-color: var(--fill-color);\n",
              "      border-top-color: var(--fill-color);\n",
              "    }\n",
              "    30% {\n",
              "      border-color: transparent;\n",
              "      border-left-color: var(--fill-color);\n",
              "      border-top-color: var(--fill-color);\n",
              "      border-right-color: var(--fill-color);\n",
              "    }\n",
              "    40% {\n",
              "      border-color: transparent;\n",
              "      border-right-color: var(--fill-color);\n",
              "      border-top-color: var(--fill-color);\n",
              "    }\n",
              "    60% {\n",
              "      border-color: transparent;\n",
              "      border-right-color: var(--fill-color);\n",
              "    }\n",
              "    80% {\n",
              "      border-color: transparent;\n",
              "      border-right-color: var(--fill-color);\n",
              "      border-bottom-color: var(--fill-color);\n",
              "    }\n",
              "    90% {\n",
              "      border-color: transparent;\n",
              "      border-bottom-color: var(--fill-color);\n",
              "    }\n",
              "  }\n",
              "</style>\n",
              "\n",
              "  <script>\n",
              "    async function quickchart(key) {\n",
              "      const quickchartButtonEl =\n",
              "        document.querySelector('#' + key + ' button');\n",
              "      quickchartButtonEl.disabled = true;  // To prevent multiple clicks.\n",
              "      quickchartButtonEl.classList.add('colab-df-spinner');\n",
              "      try {\n",
              "        const charts = await google.colab.kernel.invokeFunction(\n",
              "            'suggestCharts', [key], {});\n",
              "      } catch (error) {\n",
              "        console.error('Error during call to suggestCharts:', error);\n",
              "      }\n",
              "      quickchartButtonEl.classList.remove('colab-df-spinner');\n",
              "      quickchartButtonEl.classList.add('colab-df-quickchart-complete');\n",
              "    }\n",
              "    (() => {\n",
              "      let quickchartButtonEl =\n",
              "        document.querySelector('#df-66b90059-512a-453b-8610-fe583baa2d0a button');\n",
              "      quickchartButtonEl.style.display =\n",
              "        google.colab.kernel.accessAllowed ? 'block' : 'none';\n",
              "    })();\n",
              "  </script>\n",
              "</div>\n",
              "\n",
              "    </div>\n",
              "  </div>\n"
            ]
          },
          "metadata": {},
          "execution_count": 3
        }
      ]
    },
    {
      "cell_type": "code",
      "source": [
        "import numpy as np\n",
        "test_set = df.iloc[:600, 1:2].values\n",
        "training_set = df.iloc[600:, 1:2].values"
      ],
      "metadata": {
        "id": "6YhaDOqFKFEm"
      },
      "execution_count": 4,
      "outputs": []
    },
    {
      "cell_type": "code",
      "source": [
        "# 데이터 정규화\n",
        "from sklearn.preprocessing import MinMaxScaler\n",
        "sc = MinMaxScaler(feature_range = (0, 1))\n",
        "training_set_scaled = sc.fit_transform(training_set)"
      ],
      "metadata": {
        "id": "kI7m1F9KUDqt"
      },
      "execution_count": 5,
      "outputs": []
    },
    {
      "cell_type": "code",
      "source": [
        "X_train = []\n",
        "y_train = []\n",
        "for i in range(50, 658):\n",
        "  X_train.append(training_set_scaled[i-50:i, 0])\n",
        "  y_train.append(training_set_scaled[i, 0])\n",
        "\n",
        "X_train, y_train = np.array(X_train), np.array(y_train)\n",
        "X_train = np.reshape(X_train, (X_train.shape[0], X_train.shape[1], 1))"
      ],
      "metadata": {
        "id": "dBK3ylYNaeQO"
      },
      "execution_count": 6,
      "outputs": []
    },
    {
      "cell_type": "code",
      "source": [
        "# 모델 만들기\n",
        "from keras.models import Sequential\n",
        "model = Sequential()"
      ],
      "metadata": {
        "id": "FLojEI6ZwJ9E"
      },
      "execution_count": 7,
      "outputs": []
    },
    {
      "cell_type": "code",
      "source": [
        "# 첫번째 레이어 + 정규화\n",
        "from keras.layers import LSTM, Dropout\n",
        "model.add(LSTM(units=50, return_sequences=True, input_shape=(X_train.shape[1], 1)))\n",
        "model.add(Dropout(0.2))"
      ],
      "metadata": {
        "id": "onzQwtzG1NAf"
      },
      "execution_count": 8,
      "outputs": []
    },
    {
      "cell_type": "code",
      "source": [
        "# 2 ~ n-1번째 레이어 + 정규화\n",
        "model.add(LSTM(units=50, return_sequences=True))\n",
        "model.add(Dropout(0.2))\n",
        "\n",
        "model.add(LSTM(units=50, return_sequences=True))\n",
        "model.add(Dropout(0.2))"
      ],
      "metadata": {
        "id": "1CsTV_Ez7ee1"
      },
      "execution_count": 9,
      "outputs": []
    },
    {
      "cell_type": "code",
      "source": [
        "# 마지막 레이어 + 정규화\n",
        "model.add(LSTM(units=50))\n",
        "model.add(Dropout(0.2))\n",
        "\n",
        "# 출력 레이어 추가\n",
        "from keras.layers import Dense\n",
        "model.add(Dense(units=1))"
      ],
      "metadata": {
        "id": "BuC8LD8c71gk"
      },
      "execution_count": 10,
      "outputs": []
    },
    {
      "cell_type": "code",
      "source": [
        "# 모델 컴파일\n",
        "model.compile(optimizer='adam', loss='mean_squared_error')\n",
        "\n",
        "# 모델 학습\n",
        "model.fit(X_train, y_train, epochs=100, batch_size=32)"
      ],
      "metadata": {
        "colab": {
          "base_uri": "https://localhost:8080/"
        },
        "id": "_dPfL0qZAcyO",
        "outputId": "25914274-04ea-4acd-fc39-af1682101ca1"
      },
      "execution_count": 11,
      "outputs": [
        {
          "output_type": "stream",
          "name": "stdout",
          "text": [
            "Epoch 1/100\n",
            "19/19 [==============================] - 8s 71ms/step - loss: 0.0804\n",
            "Epoch 2/100\n",
            "19/19 [==============================] - 1s 72ms/step - loss: 0.0211\n",
            "Epoch 3/100\n",
            "19/19 [==============================] - 1s 73ms/step - loss: 0.0151\n",
            "Epoch 4/100\n",
            "19/19 [==============================] - 2s 86ms/step - loss: 0.0139\n",
            "Epoch 5/100\n",
            "19/19 [==============================] - 2s 116ms/step - loss: 0.0130\n",
            "Epoch 6/100\n",
            "19/19 [==============================] - 2s 119ms/step - loss: 0.0122\n",
            "Epoch 7/100\n",
            "19/19 [==============================] - 2s 91ms/step - loss: 0.0102\n",
            "Epoch 8/100\n",
            "19/19 [==============================] - 1s 73ms/step - loss: 0.0105\n",
            "Epoch 9/100\n",
            "19/19 [==============================] - 1s 72ms/step - loss: 0.0111\n",
            "Epoch 10/100\n",
            "19/19 [==============================] - 1s 76ms/step - loss: 0.0092\n",
            "Epoch 11/100\n",
            "19/19 [==============================] - 1s 75ms/step - loss: 0.0096\n",
            "Epoch 12/100\n",
            "19/19 [==============================] - 1s 71ms/step - loss: 0.0090\n",
            "Epoch 13/100\n",
            "19/19 [==============================] - 1s 74ms/step - loss: 0.0086\n",
            "Epoch 14/100\n",
            "19/19 [==============================] - 2s 92ms/step - loss: 0.0084\n",
            "Epoch 15/100\n",
            "19/19 [==============================] - 2s 117ms/step - loss: 0.0082\n",
            "Epoch 16/100\n",
            "19/19 [==============================] - 2s 119ms/step - loss: 0.0084\n",
            "Epoch 17/100\n",
            "19/19 [==============================] - 2s 84ms/step - loss: 0.0079\n",
            "Epoch 18/100\n",
            "19/19 [==============================] - 1s 73ms/step - loss: 0.0077\n",
            "Epoch 19/100\n",
            "19/19 [==============================] - 1s 73ms/step - loss: 0.0079\n",
            "Epoch 20/100\n",
            "19/19 [==============================] - 1s 73ms/step - loss: 0.0073\n",
            "Epoch 21/100\n",
            "19/19 [==============================] - 1s 73ms/step - loss: 0.0064\n",
            "Epoch 22/100\n",
            "19/19 [==============================] - 1s 72ms/step - loss: 0.0068\n",
            "Epoch 23/100\n",
            "19/19 [==============================] - 1s 73ms/step - loss: 0.0069\n",
            "Epoch 24/100\n",
            "19/19 [==============================] - 2s 100ms/step - loss: 0.0057\n",
            "Epoch 25/100\n",
            "19/19 [==============================] - 2s 119ms/step - loss: 0.0071\n",
            "Epoch 26/100\n",
            "19/19 [==============================] - 2s 121ms/step - loss: 0.0056\n",
            "Epoch 27/100\n",
            "19/19 [==============================] - 2s 80ms/step - loss: 0.0060\n",
            "Epoch 28/100\n",
            "19/19 [==============================] - 1s 73ms/step - loss: 0.0056\n",
            "Epoch 29/100\n",
            "19/19 [==============================] - 1s 79ms/step - loss: 0.0056\n",
            "Epoch 30/100\n",
            "19/19 [==============================] - 3s 150ms/step - loss: 0.0052\n",
            "Epoch 31/100\n",
            "19/19 [==============================] - 3s 155ms/step - loss: 0.0056\n",
            "Epoch 32/100\n",
            "19/19 [==============================] - 4s 199ms/step - loss: 0.0046\n",
            "Epoch 33/100\n",
            "19/19 [==============================] - 3s 182ms/step - loss: 0.0051\n",
            "Epoch 34/100\n",
            "19/19 [==============================] - 2s 89ms/step - loss: 0.0057\n",
            "Epoch 35/100\n",
            "19/19 [==============================] - 1s 73ms/step - loss: 0.0054\n",
            "Epoch 36/100\n",
            "19/19 [==============================] - 1s 73ms/step - loss: 0.0052\n",
            "Epoch 37/100\n",
            "19/19 [==============================] - 1s 75ms/step - loss: 0.0049\n",
            "Epoch 38/100\n",
            "19/19 [==============================] - 1s 73ms/step - loss: 0.0052\n",
            "Epoch 39/100\n",
            "19/19 [==============================] - 1s 75ms/step - loss: 0.0044\n",
            "Epoch 40/100\n",
            "19/19 [==============================] - 2s 93ms/step - loss: 0.0044\n",
            "Epoch 41/100\n",
            "19/19 [==============================] - 2s 119ms/step - loss: 0.0042\n",
            "Epoch 42/100\n",
            "19/19 [==============================] - 2s 119ms/step - loss: 0.0047\n",
            "Epoch 43/100\n",
            "19/19 [==============================] - 2s 88ms/step - loss: 0.0049\n",
            "Epoch 44/100\n",
            "19/19 [==============================] - 1s 74ms/step - loss: 0.0044\n",
            "Epoch 45/100\n",
            "19/19 [==============================] - 1s 76ms/step - loss: 0.0046\n",
            "Epoch 46/100\n",
            "19/19 [==============================] - 1s 74ms/step - loss: 0.0038\n",
            "Epoch 47/100\n",
            "19/19 [==============================] - 1s 75ms/step - loss: 0.0043\n",
            "Epoch 48/100\n",
            "19/19 [==============================] - 1s 75ms/step - loss: 0.0039\n",
            "Epoch 49/100\n",
            "19/19 [==============================] - 1s 73ms/step - loss: 0.0048\n",
            "Epoch 50/100\n",
            "19/19 [==============================] - 2s 99ms/step - loss: 0.0042\n",
            "Epoch 51/100\n",
            "19/19 [==============================] - 2s 121ms/step - loss: 0.0041\n",
            "Epoch 52/100\n",
            "19/19 [==============================] - 2s 121ms/step - loss: 0.0042\n",
            "Epoch 53/100\n",
            "19/19 [==============================] - 1s 73ms/step - loss: 0.0044\n",
            "Epoch 54/100\n",
            "19/19 [==============================] - 1s 72ms/step - loss: 0.0050\n",
            "Epoch 55/100\n",
            "19/19 [==============================] - 1s 74ms/step - loss: 0.0046\n",
            "Epoch 56/100\n",
            "19/19 [==============================] - 1s 73ms/step - loss: 0.0043\n",
            "Epoch 57/100\n",
            "19/19 [==============================] - 1s 73ms/step - loss: 0.0042\n",
            "Epoch 58/100\n",
            "19/19 [==============================] - 1s 73ms/step - loss: 0.0042\n",
            "Epoch 59/100\n",
            "19/19 [==============================] - 1s 72ms/step - loss: 0.0036\n",
            "Epoch 60/100\n",
            "19/19 [==============================] - 2s 105ms/step - loss: 0.0045\n",
            "Epoch 61/100\n",
            "19/19 [==============================] - 2s 117ms/step - loss: 0.0052\n",
            "Epoch 62/100\n",
            "19/19 [==============================] - 2s 117ms/step - loss: 0.0042\n",
            "Epoch 63/100\n",
            "19/19 [==============================] - 1s 73ms/step - loss: 0.0039\n",
            "Epoch 64/100\n",
            "19/19 [==============================] - 1s 73ms/step - loss: 0.0036\n",
            "Epoch 65/100\n",
            "19/19 [==============================] - 1s 72ms/step - loss: 0.0038\n",
            "Epoch 66/100\n",
            "19/19 [==============================] - 1s 73ms/step - loss: 0.0035\n",
            "Epoch 67/100\n",
            "19/19 [==============================] - 1s 73ms/step - loss: 0.0036\n",
            "Epoch 68/100\n",
            "19/19 [==============================] - 1s 72ms/step - loss: 0.0035\n",
            "Epoch 69/100\n",
            "19/19 [==============================] - 1s 73ms/step - loss: 0.0039\n",
            "Epoch 70/100\n",
            "19/19 [==============================] - 2s 108ms/step - loss: 0.0034\n",
            "Epoch 71/100\n",
            "19/19 [==============================] - 2s 115ms/step - loss: 0.0037\n",
            "Epoch 72/100\n",
            "19/19 [==============================] - 2s 113ms/step - loss: 0.0035\n",
            "Epoch 73/100\n",
            "19/19 [==============================] - 1s 74ms/step - loss: 0.0034\n",
            "Epoch 74/100\n",
            "19/19 [==============================] - 1s 72ms/step - loss: 0.0033\n",
            "Epoch 75/100\n",
            "19/19 [==============================] - 1s 72ms/step - loss: 0.0033\n",
            "Epoch 76/100\n",
            "19/19 [==============================] - 1s 75ms/step - loss: 0.0035\n",
            "Epoch 77/100\n",
            "19/19 [==============================] - 1s 73ms/step - loss: 0.0034\n",
            "Epoch 78/100\n",
            "19/19 [==============================] - 1s 74ms/step - loss: 0.0037\n",
            "Epoch 79/100\n",
            "19/19 [==============================] - 1s 74ms/step - loss: 0.0032\n",
            "Epoch 80/100\n",
            "19/19 [==============================] - 2s 107ms/step - loss: 0.0036\n",
            "Epoch 81/100\n",
            "19/19 [==============================] - 2s 114ms/step - loss: 0.0039\n",
            "Epoch 82/100\n",
            "19/19 [==============================] - 2s 115ms/step - loss: 0.0033\n",
            "Epoch 83/100\n",
            "19/19 [==============================] - 1s 74ms/step - loss: 0.0032\n",
            "Epoch 84/100\n",
            "19/19 [==============================] - 1s 74ms/step - loss: 0.0032\n",
            "Epoch 85/100\n",
            "19/19 [==============================] - 1s 74ms/step - loss: 0.0030\n",
            "Epoch 86/100\n",
            "19/19 [==============================] - 1s 74ms/step - loss: 0.0030\n",
            "Epoch 87/100\n",
            "19/19 [==============================] - 1s 73ms/step - loss: 0.0029\n",
            "Epoch 88/100\n",
            "19/19 [==============================] - 1s 74ms/step - loss: 0.0030\n",
            "Epoch 89/100\n",
            "19/19 [==============================] - 1s 71ms/step - loss: 0.0035\n",
            "Epoch 90/100\n",
            "19/19 [==============================] - 2s 106ms/step - loss: 0.0029\n",
            "Epoch 91/100\n",
            "19/19 [==============================] - 2s 114ms/step - loss: 0.0028\n",
            "Epoch 92/100\n",
            "19/19 [==============================] - 2s 114ms/step - loss: 0.0031\n",
            "Epoch 93/100\n",
            "19/19 [==============================] - 2s 78ms/step - loss: 0.0030\n",
            "Epoch 94/100\n",
            "19/19 [==============================] - 2s 91ms/step - loss: 0.0025\n",
            "Epoch 95/100\n",
            "19/19 [==============================] - 2s 84ms/step - loss: 0.0030\n",
            "Epoch 96/100\n",
            "19/19 [==============================] - 1s 75ms/step - loss: 0.0026\n",
            "Epoch 97/100\n",
            "19/19 [==============================] - 1s 75ms/step - loss: 0.0031\n",
            "Epoch 98/100\n",
            "19/19 [==============================] - 1s 75ms/step - loss: 0.0033\n",
            "Epoch 99/100\n",
            "19/19 [==============================] - 2s 91ms/step - loss: 0.0026\n",
            "Epoch 100/100\n",
            "19/19 [==============================] - 2s 123ms/step - loss: 0.0027\n"
          ]
        },
        {
          "output_type": "execute_result",
          "data": {
            "text/plain": [
              "<keras.src.callbacks.History at 0x7ddedcac22f0>"
            ]
          },
          "metadata": {},
          "execution_count": 11
        }
      ]
    },
    {
      "cell_type": "code",
      "source": [
        "dataset_train = df.iloc[600:, 1:2]\n",
        "dataset_test = df.iloc[:600, 1:2]\n",
        "\n",
        "dataset_total = pd.concat((dataset_train, dataset_test), axis = 0)"
      ],
      "metadata": {
        "id": "1QBLukynlpyX"
      },
      "execution_count": 12,
      "outputs": []
    },
    {
      "cell_type": "code",
      "source": [
        "inputs = dataset_total[len(dataset_total) - len(dataset_test) - 50:].values\n",
        "inputs = inputs.reshape(-1, 1)\n",
        "inputs = sc.transform(inputs)"
      ],
      "metadata": {
        "id": "YgB9uBTXpQgx"
      },
      "execution_count": 13,
      "outputs": []
    },
    {
      "cell_type": "code",
      "source": [
        "X_test = []\n",
        "for i in range(50, 510):\n",
        "  X_test.append(inputs[i-50:i, 0])\n",
        "X_test = np.array(X_test)\n",
        "X_test = np.reshape(X_test, (X_test.shape[0], X_test.shape[1], 1))\n",
        "print(X_test.shape)\n"
      ],
      "metadata": {
        "colab": {
          "base_uri": "https://localhost:8080/"
        },
        "id": "w1XH6KNStPbN",
        "outputId": "92342a82-6d89-4fe8-e36b-03583055c1c1"
      },
      "execution_count": 14,
      "outputs": [
        {
          "output_type": "stream",
          "name": "stdout",
          "text": [
            "(460, 50, 1)\n"
          ]
        }
      ]
    },
    {
      "cell_type": "code",
      "source": [
        "predicted_stock_price = model.predict(X_test)\n",
        "predicted_stock_price = sc.inverse_transform(predicted_stock_price)"
      ],
      "metadata": {
        "colab": {
          "base_uri": "https://localhost:8080/"
        },
        "id": "egMxTpTuvjMM",
        "outputId": "9d0d7498-9264-4c9c-e111-f73531ab66c8"
      },
      "execution_count": 15,
      "outputs": [
        {
          "output_type": "stream",
          "name": "stdout",
          "text": [
            "15/15 [==============================] - 2s 25ms/step\n"
          ]
        }
      ]
    }
  ]
}